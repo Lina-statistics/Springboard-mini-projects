{
 "cells": [
  {
   "cell_type": "markdown",
   "id": "982680c8",
   "metadata": {},
   "source": [
    "## 1. define adopter user and data preprocessing for modeling"
   ]
  },
  {
   "cell_type": "code",
   "execution_count": 1,
   "id": "cc3ad3f7",
   "metadata": {},
   "outputs": [],
   "source": [
    "#read data into the system\n",
    "import pandas as pd\n",
    "f1='takehome_user_engagement.csv'\n",
    "f2='takehome_users.csv'\n",
    "df1=pd.read_csv(f1)\n",
    "df2=pd.read_csv(f2)"
   ]
  },
  {
   "cell_type": "code",
   "execution_count": 2,
   "id": "76288924",
   "metadata": {},
   "outputs": [
    {
     "data": {
      "text/html": [
       "<div>\n",
       "<style scoped>\n",
       "    .dataframe tbody tr th:only-of-type {\n",
       "        vertical-align: middle;\n",
       "    }\n",
       "\n",
       "    .dataframe tbody tr th {\n",
       "        vertical-align: top;\n",
       "    }\n",
       "\n",
       "    .dataframe thead th {\n",
       "        text-align: right;\n",
       "    }\n",
       "</style>\n",
       "<table border=\"1\" class=\"dataframe\">\n",
       "  <thead>\n",
       "    <tr style=\"text-align: right;\">\n",
       "      <th></th>\n",
       "      <th>time_stamp</th>\n",
       "      <th>user_id</th>\n",
       "      <th>visited</th>\n",
       "    </tr>\n",
       "  </thead>\n",
       "  <tbody>\n",
       "    <tr>\n",
       "      <th>0</th>\n",
       "      <td>2014-04-22 03:53:30</td>\n",
       "      <td>1</td>\n",
       "      <td>1</td>\n",
       "    </tr>\n",
       "    <tr>\n",
       "      <th>1</th>\n",
       "      <td>2013-11-15 03:45:04</td>\n",
       "      <td>2</td>\n",
       "      <td>1</td>\n",
       "    </tr>\n",
       "    <tr>\n",
       "      <th>2</th>\n",
       "      <td>2013-11-29 03:45:04</td>\n",
       "      <td>2</td>\n",
       "      <td>1</td>\n",
       "    </tr>\n",
       "    <tr>\n",
       "      <th>3</th>\n",
       "      <td>2013-12-09 03:45:04</td>\n",
       "      <td>2</td>\n",
       "      <td>1</td>\n",
       "    </tr>\n",
       "    <tr>\n",
       "      <th>4</th>\n",
       "      <td>2013-12-25 03:45:04</td>\n",
       "      <td>2</td>\n",
       "      <td>1</td>\n",
       "    </tr>\n",
       "  </tbody>\n",
       "</table>\n",
       "</div>"
      ],
      "text/plain": [
       "            time_stamp  user_id  visited\n",
       "0  2014-04-22 03:53:30        1        1\n",
       "1  2013-11-15 03:45:04        2        1\n",
       "2  2013-11-29 03:45:04        2        1\n",
       "3  2013-12-09 03:45:04        2        1\n",
       "4  2013-12-25 03:45:04        2        1"
      ]
     },
     "execution_count": 2,
     "metadata": {},
     "output_type": "execute_result"
    }
   ],
   "source": [
    "#Defining an \"adopted user\" as a user who has logged into the product on three separate days in at least one sevenday period\n",
    "df1.head()"
   ]
  },
  {
   "cell_type": "code",
   "execution_count": 3,
   "id": "127f433a",
   "metadata": {},
   "outputs": [
    {
     "data": {
      "text/plain": [
       "'2014-06-06 14:58:50'"
      ]
     },
     "execution_count": 3,
     "metadata": {},
     "output_type": "execute_result"
    }
   ],
   "source": [
    "import datetime\n",
    "df1.time_stamp.max()"
   ]
  },
  {
   "cell_type": "code",
   "execution_count": 4,
   "id": "9f4290c6",
   "metadata": {
    "scrolled": true
   },
   "outputs": [
    {
     "data": {
      "text/plain": [
       "time_stamp    object\n",
       "user_id        int64\n",
       "visited        int64\n",
       "dtype: object"
      ]
     },
     "execution_count": 4,
     "metadata": {},
     "output_type": "execute_result"
    }
   ],
   "source": [
    "df1.dtypes"
   ]
  },
  {
   "cell_type": "code",
   "execution_count": 5,
   "id": "dea592b3",
   "metadata": {},
   "outputs": [],
   "source": [
    "df1_n=df1.copy()\n",
    "df1_n['time']=pd.to_datetime(df1_n.time_stamp)\n",
    "df1_n.drop(columns=['time_stamp'], inplace=True)"
   ]
  },
  {
   "cell_type": "code",
   "execution_count": 6,
   "id": "50009a49",
   "metadata": {},
   "outputs": [],
   "source": [
    "gr=df1_n[df1_n.user_id==2]\n",
    "gr.set_index('time', inplace=True)"
   ]
  },
  {
   "cell_type": "code",
   "execution_count": 7,
   "id": "2b5e7ea9",
   "metadata": {},
   "outputs": [
    {
     "data": {
      "text/html": [
       "<div>\n",
       "<style scoped>\n",
       "    .dataframe tbody tr th:only-of-type {\n",
       "        vertical-align: middle;\n",
       "    }\n",
       "\n",
       "    .dataframe tbody tr th {\n",
       "        vertical-align: top;\n",
       "    }\n",
       "\n",
       "    .dataframe thead th {\n",
       "        text-align: right;\n",
       "    }\n",
       "</style>\n",
       "<table border=\"1\" class=\"dataframe\">\n",
       "  <thead>\n",
       "    <tr style=\"text-align: right;\">\n",
       "      <th></th>\n",
       "      <th>user_id</th>\n",
       "      <th>visited</th>\n",
       "    </tr>\n",
       "    <tr>\n",
       "      <th>time</th>\n",
       "      <th></th>\n",
       "      <th></th>\n",
       "    </tr>\n",
       "  </thead>\n",
       "  <tbody>\n",
       "    <tr>\n",
       "      <th>2013-11-15 03:45:04</th>\n",
       "      <td>2.0</td>\n",
       "      <td>1.0</td>\n",
       "    </tr>\n",
       "    <tr>\n",
       "      <th>2013-11-16 03:45:04</th>\n",
       "      <td>NaN</td>\n",
       "      <td>NaN</td>\n",
       "    </tr>\n",
       "    <tr>\n",
       "      <th>2013-11-17 03:45:04</th>\n",
       "      <td>NaN</td>\n",
       "      <td>NaN</td>\n",
       "    </tr>\n",
       "    <tr>\n",
       "      <th>2013-11-18 03:45:04</th>\n",
       "      <td>NaN</td>\n",
       "      <td>NaN</td>\n",
       "    </tr>\n",
       "    <tr>\n",
       "      <th>2013-11-19 03:45:04</th>\n",
       "      <td>NaN</td>\n",
       "      <td>NaN</td>\n",
       "    </tr>\n",
       "    <tr>\n",
       "      <th>...</th>\n",
       "      <td>...</td>\n",
       "      <td>...</td>\n",
       "    </tr>\n",
       "    <tr>\n",
       "      <th>2014-03-27 03:45:04</th>\n",
       "      <td>NaN</td>\n",
       "      <td>NaN</td>\n",
       "    </tr>\n",
       "    <tr>\n",
       "      <th>2014-03-28 03:45:04</th>\n",
       "      <td>NaN</td>\n",
       "      <td>NaN</td>\n",
       "    </tr>\n",
       "    <tr>\n",
       "      <th>2014-03-29 03:45:04</th>\n",
       "      <td>NaN</td>\n",
       "      <td>NaN</td>\n",
       "    </tr>\n",
       "    <tr>\n",
       "      <th>2014-03-30 03:45:04</th>\n",
       "      <td>NaN</td>\n",
       "      <td>NaN</td>\n",
       "    </tr>\n",
       "    <tr>\n",
       "      <th>2014-03-31 03:45:04</th>\n",
       "      <td>2.0</td>\n",
       "      <td>1.0</td>\n",
       "    </tr>\n",
       "  </tbody>\n",
       "</table>\n",
       "<p>137 rows × 2 columns</p>\n",
       "</div>"
      ],
      "text/plain": [
       "                     user_id  visited\n",
       "time                                 \n",
       "2013-11-15 03:45:04      2.0      1.0\n",
       "2013-11-16 03:45:04      NaN      NaN\n",
       "2013-11-17 03:45:04      NaN      NaN\n",
       "2013-11-18 03:45:04      NaN      NaN\n",
       "2013-11-19 03:45:04      NaN      NaN\n",
       "...                      ...      ...\n",
       "2014-03-27 03:45:04      NaN      NaN\n",
       "2014-03-28 03:45:04      NaN      NaN\n",
       "2014-03-29 03:45:04      NaN      NaN\n",
       "2014-03-30 03:45:04      NaN      NaN\n",
       "2014-03-31 03:45:04      2.0      1.0\n",
       "\n",
       "[137 rows x 2 columns]"
      ]
     },
     "execution_count": 7,
     "metadata": {},
     "output_type": "execute_result"
    }
   ],
   "source": [
    "gr.asfreq('D')"
   ]
  },
  {
   "cell_type": "code",
   "execution_count": 8,
   "id": "0d395d1d",
   "metadata": {},
   "outputs": [
    {
     "data": {
      "text/plain": [
       "array([    1,     2,     3, ..., 11998, 11999, 12000], dtype=int64)"
      ]
     },
     "execution_count": 8,
     "metadata": {},
     "output_type": "execute_result"
    }
   ],
   "source": [
    "df1_n.user_id.unique()"
   ]
  },
  {
   "cell_type": "code",
   "execution_count": 9,
   "id": "921dc5fe",
   "metadata": {},
   "outputs": [],
   "source": [
    "#fill in blank data\n",
    "#data split into group based on user_id\n",
    "#fill in blank data and make sure there is daily data on every day.\n",
    "user_id=df1_n.user_id.unique()\n",
    "def user_id_group(id):\n",
    "    d=df1_n[df1_n.user_id==id]\n",
    "    return d\n",
    "def fill_blank_d(df):\n",
    "    df.set_index('time', inplace=True)\n",
    "    return df.asfreq('D')\n",
    "def fill_blank_other(df):\n",
    "    df.user_id.fillna(method='ffill', inplace=True)\n",
    "    df.visited.fillna(0, inplace=True)\n",
    "    return df"
   ]
  },
  {
   "cell_type": "code",
   "execution_count": 10,
   "id": "d2810f46",
   "metadata": {},
   "outputs": [],
   "source": [
    "group=[user_id_group(id) for id in user_id]\n",
    "complete_d=[fill_blank_d(df) for df in group]"
   ]
  },
  {
   "cell_type": "code",
   "execution_count": 11,
   "id": "2b72f5fa",
   "metadata": {},
   "outputs": [],
   "source": [
    "complete_fill=[fill_blank_other(df) for df in complete_d]"
   ]
  },
  {
   "cell_type": "code",
   "execution_count": 12,
   "id": "c9260e95",
   "metadata": {},
   "outputs": [
    {
     "data": {
      "text/plain": [
       "pandas.core.frame.DataFrame"
      ]
     },
     "execution_count": 12,
     "metadata": {},
     "output_type": "execute_result"
    }
   ],
   "source": [
    "type(complete_fill[1])"
   ]
  },
  {
   "cell_type": "code",
   "execution_count": 13,
   "id": "7bf2ae82",
   "metadata": {},
   "outputs": [
    {
     "data": {
      "text/html": [
       "<div>\n",
       "<style scoped>\n",
       "    .dataframe tbody tr th:only-of-type {\n",
       "        vertical-align: middle;\n",
       "    }\n",
       "\n",
       "    .dataframe tbody tr th {\n",
       "        vertical-align: top;\n",
       "    }\n",
       "\n",
       "    .dataframe thead th {\n",
       "        text-align: right;\n",
       "    }\n",
       "</style>\n",
       "<table border=\"1\" class=\"dataframe\">\n",
       "  <thead>\n",
       "    <tr style=\"text-align: right;\">\n",
       "      <th></th>\n",
       "      <th>user_id</th>\n",
       "      <th>visited</th>\n",
       "    </tr>\n",
       "    <tr>\n",
       "      <th>time</th>\n",
       "      <th></th>\n",
       "      <th></th>\n",
       "    </tr>\n",
       "  </thead>\n",
       "  <tbody>\n",
       "    <tr>\n",
       "      <th>2013-11-15 03:45:04</th>\n",
       "      <td>2.0</td>\n",
       "      <td>1.0</td>\n",
       "    </tr>\n",
       "    <tr>\n",
       "      <th>2013-11-16 03:45:04</th>\n",
       "      <td>2.0</td>\n",
       "      <td>0.0</td>\n",
       "    </tr>\n",
       "    <tr>\n",
       "      <th>2013-11-17 03:45:04</th>\n",
       "      <td>2.0</td>\n",
       "      <td>0.0</td>\n",
       "    </tr>\n",
       "    <tr>\n",
       "      <th>2013-11-18 03:45:04</th>\n",
       "      <td>2.0</td>\n",
       "      <td>0.0</td>\n",
       "    </tr>\n",
       "    <tr>\n",
       "      <th>2013-11-19 03:45:04</th>\n",
       "      <td>2.0</td>\n",
       "      <td>0.0</td>\n",
       "    </tr>\n",
       "    <tr>\n",
       "      <th>...</th>\n",
       "      <td>...</td>\n",
       "      <td>...</td>\n",
       "    </tr>\n",
       "    <tr>\n",
       "      <th>2014-03-27 03:45:04</th>\n",
       "      <td>2.0</td>\n",
       "      <td>0.0</td>\n",
       "    </tr>\n",
       "    <tr>\n",
       "      <th>2014-03-28 03:45:04</th>\n",
       "      <td>2.0</td>\n",
       "      <td>0.0</td>\n",
       "    </tr>\n",
       "    <tr>\n",
       "      <th>2014-03-29 03:45:04</th>\n",
       "      <td>2.0</td>\n",
       "      <td>0.0</td>\n",
       "    </tr>\n",
       "    <tr>\n",
       "      <th>2014-03-30 03:45:04</th>\n",
       "      <td>2.0</td>\n",
       "      <td>0.0</td>\n",
       "    </tr>\n",
       "    <tr>\n",
       "      <th>2014-03-31 03:45:04</th>\n",
       "      <td>2.0</td>\n",
       "      <td>1.0</td>\n",
       "    </tr>\n",
       "  </tbody>\n",
       "</table>\n",
       "<p>137 rows × 2 columns</p>\n",
       "</div>"
      ],
      "text/plain": [
       "                     user_id  visited\n",
       "time                                 \n",
       "2013-11-15 03:45:04      2.0      1.0\n",
       "2013-11-16 03:45:04      2.0      0.0\n",
       "2013-11-17 03:45:04      2.0      0.0\n",
       "2013-11-18 03:45:04      2.0      0.0\n",
       "2013-11-19 03:45:04      2.0      0.0\n",
       "...                      ...      ...\n",
       "2014-03-27 03:45:04      2.0      0.0\n",
       "2014-03-28 03:45:04      2.0      0.0\n",
       "2014-03-29 03:45:04      2.0      0.0\n",
       "2014-03-30 03:45:04      2.0      0.0\n",
       "2014-03-31 03:45:04      2.0      1.0\n",
       "\n",
       "[137 rows x 2 columns]"
      ]
     },
     "execution_count": 13,
     "metadata": {},
     "output_type": "execute_result"
    }
   ],
   "source": [
    "complete_fill[1]"
   ]
  },
  {
   "cell_type": "code",
   "execution_count": 14,
   "id": "5f63bfb5",
   "metadata": {},
   "outputs": [],
   "source": [
    "n_range=len(complete_fill)"
   ]
  },
  {
   "cell_type": "code",
   "execution_count": 15,
   "id": "c4c9ac59",
   "metadata": {},
   "outputs": [],
   "source": [
    "#convert nested list into pandas dataframe and use rolling\n",
    "complete_date=pd.concat([complete_fill[i] for i in range(n_range)])"
   ]
  },
  {
   "cell_type": "code",
   "execution_count": 16,
   "id": "684f64b1",
   "metadata": {},
   "outputs": [
    {
     "data": {
      "text/html": [
       "<div>\n",
       "<style scoped>\n",
       "    .dataframe tbody tr th:only-of-type {\n",
       "        vertical-align: middle;\n",
       "    }\n",
       "\n",
       "    .dataframe tbody tr th {\n",
       "        vertical-align: top;\n",
       "    }\n",
       "\n",
       "    .dataframe thead th {\n",
       "        text-align: right;\n",
       "    }\n",
       "</style>\n",
       "<table border=\"1\" class=\"dataframe\">\n",
       "  <thead>\n",
       "    <tr style=\"text-align: right;\">\n",
       "      <th></th>\n",
       "      <th>time</th>\n",
       "      <th>user_id</th>\n",
       "      <th>visited</th>\n",
       "    </tr>\n",
       "  </thead>\n",
       "  <tbody>\n",
       "    <tr>\n",
       "      <th>0</th>\n",
       "      <td>2014-04-22 03:53:30</td>\n",
       "      <td>1.0</td>\n",
       "      <td>1.0</td>\n",
       "    </tr>\n",
       "    <tr>\n",
       "      <th>1</th>\n",
       "      <td>2013-11-15 03:45:04</td>\n",
       "      <td>2.0</td>\n",
       "      <td>1.0</td>\n",
       "    </tr>\n",
       "    <tr>\n",
       "      <th>2</th>\n",
       "      <td>2013-11-16 03:45:04</td>\n",
       "      <td>2.0</td>\n",
       "      <td>0.0</td>\n",
       "    </tr>\n",
       "    <tr>\n",
       "      <th>3</th>\n",
       "      <td>2013-11-17 03:45:04</td>\n",
       "      <td>2.0</td>\n",
       "      <td>0.0</td>\n",
       "    </tr>\n",
       "    <tr>\n",
       "      <th>4</th>\n",
       "      <td>2013-11-18 03:45:04</td>\n",
       "      <td>2.0</td>\n",
       "      <td>0.0</td>\n",
       "    </tr>\n",
       "  </tbody>\n",
       "</table>\n",
       "</div>"
      ],
      "text/plain": [
       "                 time  user_id  visited\n",
       "0 2014-04-22 03:53:30      1.0      1.0\n",
       "1 2013-11-15 03:45:04      2.0      1.0\n",
       "2 2013-11-16 03:45:04      2.0      0.0\n",
       "3 2013-11-17 03:45:04      2.0      0.0\n",
       "4 2013-11-18 03:45:04      2.0      0.0"
      ]
     },
     "execution_count": 16,
     "metadata": {},
     "output_type": "execute_result"
    }
   ],
   "source": [
    "complete_date=complete_date.reset_index()\n",
    "complete_date.head()"
   ]
  },
  {
   "cell_type": "code",
   "execution_count": 17,
   "id": "7a923e92",
   "metadata": {},
   "outputs": [],
   "source": [
    "#rolling\n",
    "seven_d_visit=complete_date.groupby('user_id').rolling(7, on='time').visited.sum()"
   ]
  },
  {
   "cell_type": "code",
   "execution_count": 18,
   "id": "d4cb9175",
   "metadata": {},
   "outputs": [],
   "source": [
    "seven_d_f=pd.DataFrame(seven_d_visit).rename(columns={'visited':'count_7d'})"
   ]
  },
  {
   "cell_type": "code",
   "execution_count": 19,
   "id": "4b911f65",
   "metadata": {},
   "outputs": [],
   "source": [
    "df1_n_7=pd.merge(df1_n, seven_d_f, on=['time', 'user_id'], how='left')"
   ]
  },
  {
   "cell_type": "code",
   "execution_count": 20,
   "id": "84782c44",
   "metadata": {},
   "outputs": [],
   "source": [
    "adopted_user=df1_n_7.loc[(df1_n_7.count_7d >=3)]\n",
    "adopted_user_unique=adopted_user.user_id.unique()\n",
    "#then we successfully identified the adopted users in our data"
   ]
  },
  {
   "cell_type": "code",
   "execution_count": 21,
   "id": "9d43e1a1",
   "metadata": {},
   "outputs": [
    {
     "data": {
      "text/plain": [
       "1580"
      ]
     },
     "execution_count": 21,
     "metadata": {},
     "output_type": "execute_result"
    }
   ],
   "source": [
    "len(adopted_user_unique)"
   ]
  },
  {
   "cell_type": "code",
   "execution_count": 22,
   "id": "b10a971a",
   "metadata": {},
   "outputs": [
    {
     "data": {
      "text/html": [
       "<div>\n",
       "<style scoped>\n",
       "    .dataframe tbody tr th:only-of-type {\n",
       "        vertical-align: middle;\n",
       "    }\n",
       "\n",
       "    .dataframe tbody tr th {\n",
       "        vertical-align: top;\n",
       "    }\n",
       "\n",
       "    .dataframe thead th {\n",
       "        text-align: right;\n",
       "    }\n",
       "</style>\n",
       "<table border=\"1\" class=\"dataframe\">\n",
       "  <thead>\n",
       "    <tr style=\"text-align: right;\">\n",
       "      <th></th>\n",
       "      <th>object_id</th>\n",
       "      <th>creation_time</th>\n",
       "      <th>name</th>\n",
       "      <th>email</th>\n",
       "      <th>creation_source</th>\n",
       "      <th>last_session_creation_time</th>\n",
       "      <th>opted_in_to_mailing_list</th>\n",
       "      <th>enabled_for_marketing_drip</th>\n",
       "      <th>org_id</th>\n",
       "      <th>invited_by_user_id</th>\n",
       "    </tr>\n",
       "  </thead>\n",
       "  <tbody>\n",
       "    <tr>\n",
       "      <th>0</th>\n",
       "      <td>1</td>\n",
       "      <td>2014-04-22 03:53:30</td>\n",
       "      <td>Clausen August</td>\n",
       "      <td>AugustCClausen@yahoo.com</td>\n",
       "      <td>GUEST_INVITE</td>\n",
       "      <td>1.398139e+09</td>\n",
       "      <td>1</td>\n",
       "      <td>0</td>\n",
       "      <td>11</td>\n",
       "      <td>10803.0</td>\n",
       "    </tr>\n",
       "    <tr>\n",
       "      <th>1</th>\n",
       "      <td>2</td>\n",
       "      <td>2013-11-15 03:45:04</td>\n",
       "      <td>Poole Matthew</td>\n",
       "      <td>MatthewPoole@gustr.com</td>\n",
       "      <td>ORG_INVITE</td>\n",
       "      <td>1.396238e+09</td>\n",
       "      <td>0</td>\n",
       "      <td>0</td>\n",
       "      <td>1</td>\n",
       "      <td>316.0</td>\n",
       "    </tr>\n",
       "    <tr>\n",
       "      <th>2</th>\n",
       "      <td>3</td>\n",
       "      <td>2013-03-19 23:14:52</td>\n",
       "      <td>Bottrill Mitchell</td>\n",
       "      <td>MitchellBottrill@gustr.com</td>\n",
       "      <td>ORG_INVITE</td>\n",
       "      <td>1.363735e+09</td>\n",
       "      <td>0</td>\n",
       "      <td>0</td>\n",
       "      <td>94</td>\n",
       "      <td>1525.0</td>\n",
       "    </tr>\n",
       "    <tr>\n",
       "      <th>3</th>\n",
       "      <td>4</td>\n",
       "      <td>2013-05-21 08:09:28</td>\n",
       "      <td>Clausen Nicklas</td>\n",
       "      <td>NicklasSClausen@yahoo.com</td>\n",
       "      <td>GUEST_INVITE</td>\n",
       "      <td>1.369210e+09</td>\n",
       "      <td>0</td>\n",
       "      <td>0</td>\n",
       "      <td>1</td>\n",
       "      <td>5151.0</td>\n",
       "    </tr>\n",
       "    <tr>\n",
       "      <th>4</th>\n",
       "      <td>5</td>\n",
       "      <td>2013-01-17 10:14:20</td>\n",
       "      <td>Raw Grace</td>\n",
       "      <td>GraceRaw@yahoo.com</td>\n",
       "      <td>GUEST_INVITE</td>\n",
       "      <td>1.358850e+09</td>\n",
       "      <td>0</td>\n",
       "      <td>0</td>\n",
       "      <td>193</td>\n",
       "      <td>5240.0</td>\n",
       "    </tr>\n",
       "  </tbody>\n",
       "</table>\n",
       "</div>"
      ],
      "text/plain": [
       "   object_id        creation_time               name  \\\n",
       "0          1  2014-04-22 03:53:30     Clausen August   \n",
       "1          2  2013-11-15 03:45:04      Poole Matthew   \n",
       "2          3  2013-03-19 23:14:52  Bottrill Mitchell   \n",
       "3          4  2013-05-21 08:09:28    Clausen Nicklas   \n",
       "4          5  2013-01-17 10:14:20          Raw Grace   \n",
       "\n",
       "                        email creation_source  last_session_creation_time  \\\n",
       "0    AugustCClausen@yahoo.com    GUEST_INVITE                1.398139e+09   \n",
       "1      MatthewPoole@gustr.com      ORG_INVITE                1.396238e+09   \n",
       "2  MitchellBottrill@gustr.com      ORG_INVITE                1.363735e+09   \n",
       "3   NicklasSClausen@yahoo.com    GUEST_INVITE                1.369210e+09   \n",
       "4          GraceRaw@yahoo.com    GUEST_INVITE                1.358850e+09   \n",
       "\n",
       "   opted_in_to_mailing_list  enabled_for_marketing_drip  org_id  \\\n",
       "0                         1                           0      11   \n",
       "1                         0                           0       1   \n",
       "2                         0                           0      94   \n",
       "3                         0                           0       1   \n",
       "4                         0                           0     193   \n",
       "\n",
       "   invited_by_user_id  \n",
       "0             10803.0  \n",
       "1               316.0  \n",
       "2              1525.0  \n",
       "3              5151.0  \n",
       "4              5240.0  "
      ]
     },
     "execution_count": 22,
     "metadata": {},
     "output_type": "execute_result"
    }
   ],
   "source": [
    "df2.head()"
   ]
  },
  {
   "cell_type": "code",
   "execution_count": 23,
   "id": "91309a22",
   "metadata": {},
   "outputs": [],
   "source": [
    "df2['adopted_user']=df2['object_id'].apply(lambda x: 1 if x in adopted_user_unique else 0)\n",
    "#label the data, 1 for adopted user, o for non-adopted user"
   ]
  },
  {
   "cell_type": "code",
   "execution_count": 24,
   "id": "8c5f1379",
   "metadata": {
    "scrolled": true
   },
   "outputs": [
    {
     "data": {
      "text/html": [
       "<div>\n",
       "<style scoped>\n",
       "    .dataframe tbody tr th:only-of-type {\n",
       "        vertical-align: middle;\n",
       "    }\n",
       "\n",
       "    .dataframe tbody tr th {\n",
       "        vertical-align: top;\n",
       "    }\n",
       "\n",
       "    .dataframe thead th {\n",
       "        text-align: right;\n",
       "    }\n",
       "</style>\n",
       "<table border=\"1\" class=\"dataframe\">\n",
       "  <thead>\n",
       "    <tr style=\"text-align: right;\">\n",
       "      <th></th>\n",
       "      <th>object_id</th>\n",
       "      <th>creation_time</th>\n",
       "      <th>name</th>\n",
       "      <th>email</th>\n",
       "      <th>creation_source</th>\n",
       "      <th>last_session_creation_time</th>\n",
       "      <th>opted_in_to_mailing_list</th>\n",
       "      <th>enabled_for_marketing_drip</th>\n",
       "      <th>org_id</th>\n",
       "      <th>invited_by_user_id</th>\n",
       "      <th>adopted_user</th>\n",
       "    </tr>\n",
       "  </thead>\n",
       "  <tbody>\n",
       "    <tr>\n",
       "      <th>0</th>\n",
       "      <td>1</td>\n",
       "      <td>2014-04-22 03:53:30</td>\n",
       "      <td>Clausen August</td>\n",
       "      <td>AugustCClausen@yahoo.com</td>\n",
       "      <td>GUEST_INVITE</td>\n",
       "      <td>1.398139e+09</td>\n",
       "      <td>1</td>\n",
       "      <td>0</td>\n",
       "      <td>11</td>\n",
       "      <td>10803.0</td>\n",
       "      <td>0</td>\n",
       "    </tr>\n",
       "    <tr>\n",
       "      <th>1</th>\n",
       "      <td>2</td>\n",
       "      <td>2013-11-15 03:45:04</td>\n",
       "      <td>Poole Matthew</td>\n",
       "      <td>MatthewPoole@gustr.com</td>\n",
       "      <td>ORG_INVITE</td>\n",
       "      <td>1.396238e+09</td>\n",
       "      <td>0</td>\n",
       "      <td>0</td>\n",
       "      <td>1</td>\n",
       "      <td>316.0</td>\n",
       "      <td>1</td>\n",
       "    </tr>\n",
       "    <tr>\n",
       "      <th>2</th>\n",
       "      <td>3</td>\n",
       "      <td>2013-03-19 23:14:52</td>\n",
       "      <td>Bottrill Mitchell</td>\n",
       "      <td>MitchellBottrill@gustr.com</td>\n",
       "      <td>ORG_INVITE</td>\n",
       "      <td>1.363735e+09</td>\n",
       "      <td>0</td>\n",
       "      <td>0</td>\n",
       "      <td>94</td>\n",
       "      <td>1525.0</td>\n",
       "      <td>0</td>\n",
       "    </tr>\n",
       "    <tr>\n",
       "      <th>3</th>\n",
       "      <td>4</td>\n",
       "      <td>2013-05-21 08:09:28</td>\n",
       "      <td>Clausen Nicklas</td>\n",
       "      <td>NicklasSClausen@yahoo.com</td>\n",
       "      <td>GUEST_INVITE</td>\n",
       "      <td>1.369210e+09</td>\n",
       "      <td>0</td>\n",
       "      <td>0</td>\n",
       "      <td>1</td>\n",
       "      <td>5151.0</td>\n",
       "      <td>0</td>\n",
       "    </tr>\n",
       "    <tr>\n",
       "      <th>4</th>\n",
       "      <td>5</td>\n",
       "      <td>2013-01-17 10:14:20</td>\n",
       "      <td>Raw Grace</td>\n",
       "      <td>GraceRaw@yahoo.com</td>\n",
       "      <td>GUEST_INVITE</td>\n",
       "      <td>1.358850e+09</td>\n",
       "      <td>0</td>\n",
       "      <td>0</td>\n",
       "      <td>193</td>\n",
       "      <td>5240.0</td>\n",
       "      <td>0</td>\n",
       "    </tr>\n",
       "  </tbody>\n",
       "</table>\n",
       "</div>"
      ],
      "text/plain": [
       "   object_id        creation_time               name  \\\n",
       "0          1  2014-04-22 03:53:30     Clausen August   \n",
       "1          2  2013-11-15 03:45:04      Poole Matthew   \n",
       "2          3  2013-03-19 23:14:52  Bottrill Mitchell   \n",
       "3          4  2013-05-21 08:09:28    Clausen Nicklas   \n",
       "4          5  2013-01-17 10:14:20          Raw Grace   \n",
       "\n",
       "                        email creation_source  last_session_creation_time  \\\n",
       "0    AugustCClausen@yahoo.com    GUEST_INVITE                1.398139e+09   \n",
       "1      MatthewPoole@gustr.com      ORG_INVITE                1.396238e+09   \n",
       "2  MitchellBottrill@gustr.com      ORG_INVITE                1.363735e+09   \n",
       "3   NicklasSClausen@yahoo.com    GUEST_INVITE                1.369210e+09   \n",
       "4          GraceRaw@yahoo.com    GUEST_INVITE                1.358850e+09   \n",
       "\n",
       "   opted_in_to_mailing_list  enabled_for_marketing_drip  org_id  \\\n",
       "0                         1                           0      11   \n",
       "1                         0                           0       1   \n",
       "2                         0                           0      94   \n",
       "3                         0                           0       1   \n",
       "4                         0                           0     193   \n",
       "\n",
       "   invited_by_user_id  adopted_user  \n",
       "0             10803.0             0  \n",
       "1               316.0             1  \n",
       "2              1525.0             0  \n",
       "3              5151.0             0  \n",
       "4              5240.0             0  "
      ]
     },
     "execution_count": 24,
     "metadata": {},
     "output_type": "execute_result"
    }
   ],
   "source": [
    "df2.head()"
   ]
  },
  {
   "cell_type": "code",
   "execution_count": 25,
   "id": "e048bdf1",
   "metadata": {},
   "outputs": [],
   "source": [
    "#define invited_by_user_or_not, na is 0, else is 1\n",
    "df2['invited_by_user_or_not']=df2['invited_by_user_id'].apply(lambda x: 1 if x is not None else 0)"
   ]
  },
  {
   "cell_type": "code",
   "execution_count": 26,
   "id": "b4f020c9",
   "metadata": {},
   "outputs": [],
   "source": [
    "df2.drop(columns=['invited_by_user_id'], inplace=True)"
   ]
  },
  {
   "cell_type": "code",
   "execution_count": 27,
   "id": "9715387c",
   "metadata": {},
   "outputs": [
    {
     "data": {
      "text/html": [
       "<div>\n",
       "<style scoped>\n",
       "    .dataframe tbody tr th:only-of-type {\n",
       "        vertical-align: middle;\n",
       "    }\n",
       "\n",
       "    .dataframe tbody tr th {\n",
       "        vertical-align: top;\n",
       "    }\n",
       "\n",
       "    .dataframe thead th {\n",
       "        text-align: right;\n",
       "    }\n",
       "</style>\n",
       "<table border=\"1\" class=\"dataframe\">\n",
       "  <thead>\n",
       "    <tr style=\"text-align: right;\">\n",
       "      <th></th>\n",
       "      <th>object_id</th>\n",
       "      <th>creation_time</th>\n",
       "      <th>name</th>\n",
       "      <th>email</th>\n",
       "      <th>creation_source</th>\n",
       "      <th>last_session_creation_time</th>\n",
       "      <th>opted_in_to_mailing_list</th>\n",
       "      <th>enabled_for_marketing_drip</th>\n",
       "      <th>org_id</th>\n",
       "      <th>adopted_user</th>\n",
       "      <th>invited_by_user_or_not</th>\n",
       "    </tr>\n",
       "  </thead>\n",
       "  <tbody>\n",
       "    <tr>\n",
       "      <th>0</th>\n",
       "      <td>1</td>\n",
       "      <td>2014-04-22 03:53:30</td>\n",
       "      <td>Clausen August</td>\n",
       "      <td>AugustCClausen@yahoo.com</td>\n",
       "      <td>GUEST_INVITE</td>\n",
       "      <td>1.398139e+09</td>\n",
       "      <td>1</td>\n",
       "      <td>0</td>\n",
       "      <td>11</td>\n",
       "      <td>0</td>\n",
       "      <td>1</td>\n",
       "    </tr>\n",
       "    <tr>\n",
       "      <th>1</th>\n",
       "      <td>2</td>\n",
       "      <td>2013-11-15 03:45:04</td>\n",
       "      <td>Poole Matthew</td>\n",
       "      <td>MatthewPoole@gustr.com</td>\n",
       "      <td>ORG_INVITE</td>\n",
       "      <td>1.396238e+09</td>\n",
       "      <td>0</td>\n",
       "      <td>0</td>\n",
       "      <td>1</td>\n",
       "      <td>1</td>\n",
       "      <td>1</td>\n",
       "    </tr>\n",
       "    <tr>\n",
       "      <th>2</th>\n",
       "      <td>3</td>\n",
       "      <td>2013-03-19 23:14:52</td>\n",
       "      <td>Bottrill Mitchell</td>\n",
       "      <td>MitchellBottrill@gustr.com</td>\n",
       "      <td>ORG_INVITE</td>\n",
       "      <td>1.363735e+09</td>\n",
       "      <td>0</td>\n",
       "      <td>0</td>\n",
       "      <td>94</td>\n",
       "      <td>0</td>\n",
       "      <td>1</td>\n",
       "    </tr>\n",
       "    <tr>\n",
       "      <th>3</th>\n",
       "      <td>4</td>\n",
       "      <td>2013-05-21 08:09:28</td>\n",
       "      <td>Clausen Nicklas</td>\n",
       "      <td>NicklasSClausen@yahoo.com</td>\n",
       "      <td>GUEST_INVITE</td>\n",
       "      <td>1.369210e+09</td>\n",
       "      <td>0</td>\n",
       "      <td>0</td>\n",
       "      <td>1</td>\n",
       "      <td>0</td>\n",
       "      <td>1</td>\n",
       "    </tr>\n",
       "    <tr>\n",
       "      <th>4</th>\n",
       "      <td>5</td>\n",
       "      <td>2013-01-17 10:14:20</td>\n",
       "      <td>Raw Grace</td>\n",
       "      <td>GraceRaw@yahoo.com</td>\n",
       "      <td>GUEST_INVITE</td>\n",
       "      <td>1.358850e+09</td>\n",
       "      <td>0</td>\n",
       "      <td>0</td>\n",
       "      <td>193</td>\n",
       "      <td>0</td>\n",
       "      <td>1</td>\n",
       "    </tr>\n",
       "  </tbody>\n",
       "</table>\n",
       "</div>"
      ],
      "text/plain": [
       "   object_id        creation_time               name  \\\n",
       "0          1  2014-04-22 03:53:30     Clausen August   \n",
       "1          2  2013-11-15 03:45:04      Poole Matthew   \n",
       "2          3  2013-03-19 23:14:52  Bottrill Mitchell   \n",
       "3          4  2013-05-21 08:09:28    Clausen Nicklas   \n",
       "4          5  2013-01-17 10:14:20          Raw Grace   \n",
       "\n",
       "                        email creation_source  last_session_creation_time  \\\n",
       "0    AugustCClausen@yahoo.com    GUEST_INVITE                1.398139e+09   \n",
       "1      MatthewPoole@gustr.com      ORG_INVITE                1.396238e+09   \n",
       "2  MitchellBottrill@gustr.com      ORG_INVITE                1.363735e+09   \n",
       "3   NicklasSClausen@yahoo.com    GUEST_INVITE                1.369210e+09   \n",
       "4          GraceRaw@yahoo.com    GUEST_INVITE                1.358850e+09   \n",
       "\n",
       "   opted_in_to_mailing_list  enabled_for_marketing_drip  org_id  adopted_user  \\\n",
       "0                         1                           0      11             0   \n",
       "1                         0                           0       1             1   \n",
       "2                         0                           0      94             0   \n",
       "3                         0                           0       1             0   \n",
       "4                         0                           0     193             0   \n",
       "\n",
       "   invited_by_user_or_not  \n",
       "0                       1  \n",
       "1                       1  \n",
       "2                       1  \n",
       "3                       1  \n",
       "4                       1  "
      ]
     },
     "execution_count": 27,
     "metadata": {},
     "output_type": "execute_result"
    }
   ],
   "source": [
    "df2.head()"
   ]
  },
  {
   "cell_type": "markdown",
   "id": "871b0001",
   "metadata": {},
   "source": [
    "## 2. data pre-processing"
   ]
  },
  {
   "cell_type": "code",
   "execution_count": 28,
   "id": "eb8ee6ae",
   "metadata": {},
   "outputs": [
    {
     "data": {
      "text/plain": [
       "object_id                       int64\n",
       "creation_time                  object\n",
       "name                           object\n",
       "email                          object\n",
       "creation_source                object\n",
       "last_session_creation_time    float64\n",
       "opted_in_to_mailing_list        int64\n",
       "enabled_for_marketing_drip      int64\n",
       "org_id                          int64\n",
       "adopted_user                    int64\n",
       "invited_by_user_or_not          int64\n",
       "dtype: object"
      ]
     },
     "execution_count": 28,
     "metadata": {},
     "output_type": "execute_result"
    }
   ],
   "source": [
    "df2.dtypes"
   ]
  },
  {
   "cell_type": "code",
   "execution_count": 29,
   "id": "add3690d",
   "metadata": {},
   "outputs": [],
   "source": [
    "#name, creation_time, email \n",
    "# difference between creation_time and last_session_creation_time\n",
    "import time\n",
    "df2['creat_time']=pd.to_datetime(df2.creation_time)"
   ]
  },
  {
   "cell_type": "code",
   "execution_count": 30,
   "id": "7cb1c24f",
   "metadata": {},
   "outputs": [],
   "source": [
    "df2['creation_time_unix']=df2['creat_time'].apply(lambda x: time.mktime(x.timetuple()))"
   ]
  },
  {
   "cell_type": "code",
   "execution_count": 31,
   "id": "30ee5093",
   "metadata": {},
   "outputs": [
    {
     "data": {
      "text/plain": [
       "object_id                              int64\n",
       "name                                  object\n",
       "email                                 object\n",
       "creation_source                       object\n",
       "last_session_creation_time           float64\n",
       "opted_in_to_mailing_list               int64\n",
       "enabled_for_marketing_drip             int64\n",
       "org_id                                 int64\n",
       "adopted_user                           int64\n",
       "invited_by_user_or_not                 int64\n",
       "creat_time                    datetime64[ns]\n",
       "creation_time_unix                   float64\n",
       "dtype: object"
      ]
     },
     "execution_count": 31,
     "metadata": {},
     "output_type": "execute_result"
    }
   ],
   "source": [
    "df2.drop(columns=['creation_time'], inplace=True)\n",
    "df2.dtypes"
   ]
  },
  {
   "cell_type": "code",
   "execution_count": 32,
   "id": "06a57bf3",
   "metadata": {},
   "outputs": [
    {
     "data": {
      "text/plain": [
       "ORG_INVITE            4254\n",
       "GUEST_INVITE          2163\n",
       "PERSONAL_PROJECTS     2111\n",
       "SIGNUP                2087\n",
       "SIGNUP_GOOGLE_AUTH    1385\n",
       "Name: creation_source, dtype: int64"
      ]
     },
     "execution_count": 32,
     "metadata": {},
     "output_type": "execute_result"
    }
   ],
   "source": [
    "df2.creation_source.value_counts()\n",
    "#convert creation_source into dummy variables"
   ]
  },
  {
   "cell_type": "code",
   "execution_count": 33,
   "id": "8e9d2c4d",
   "metadata": {
    "scrolled": true
   },
   "outputs": [],
   "source": [
    "from sklearn import preprocessing\n",
    "le = preprocessing.LabelEncoder()\n",
    "df2['creation_source_c']=le.fit_transform(df2.creation_source)"
   ]
  },
  {
   "cell_type": "code",
   "execution_count": 34,
   "id": "a867268d",
   "metadata": {},
   "outputs": [
    {
     "data": {
      "text/plain": [
       "object_id                       int64\n",
       "name                           object\n",
       "email                          object\n",
       "last_session_creation_time    float64\n",
       "opted_in_to_mailing_list        int64\n",
       "enabled_for_marketing_drip      int64\n",
       "org_id                          int64\n",
       "adopted_user                    int64\n",
       "invited_by_user_or_not          int64\n",
       "creation_time_unix            float64\n",
       "creation_source_c               int32\n",
       "dtype: object"
      ]
     },
     "execution_count": 34,
     "metadata": {},
     "output_type": "execute_result"
    }
   ],
   "source": [
    "df2.drop(columns=['creation_source', 'creat_time'], inplace=True)\n",
    "df2.dtypes"
   ]
  },
  {
   "cell_type": "code",
   "execution_count": 35,
   "id": "891ff1bb",
   "metadata": {},
   "outputs": [
    {
     "data": {
      "text/plain": [
       "object_id                        0\n",
       "last_session_creation_time    3177\n",
       "opted_in_to_mailing_list         0\n",
       "enabled_for_marketing_drip       0\n",
       "org_id                           0\n",
       "adopted_user                     0\n",
       "invited_by_user_or_not           0\n",
       "creation_time_unix               0\n",
       "creation_source_c                0\n",
       "dtype: int64"
      ]
     },
     "execution_count": 35,
     "metadata": {},
     "output_type": "execute_result"
    }
   ],
   "source": [
    "df2_model=df2.drop(columns=['email', 'name'])\n",
    "df2_model.isnull().sum()"
   ]
  },
  {
   "cell_type": "code",
   "execution_count": 36,
   "id": "3bc620c8",
   "metadata": {},
   "outputs": [
    {
     "data": {
      "text/plain": [
       "object_id                     0\n",
       "last_session_creation_time    0\n",
       "opted_in_to_mailing_list      0\n",
       "enabled_for_marketing_drip    0\n",
       "org_id                        0\n",
       "adopted_user                  0\n",
       "invited_by_user_or_not        0\n",
       "creation_time_unix            0\n",
       "creation_source_c             0\n",
       "dtype: int64"
      ]
     },
     "execution_count": 36,
     "metadata": {},
     "output_type": "execute_result"
    }
   ],
   "source": [
    "#remove the obs with missing last_session_creation_time\n",
    "df2_model.dropna(how = 'any', inplace=True)\n",
    "df2_model.isnull().sum()"
   ]
  },
  {
   "cell_type": "code",
   "execution_count": 37,
   "id": "6cb5ab70",
   "metadata": {},
   "outputs": [
    {
     "data": {
      "text/plain": [
       "0    7243\n",
       "1    1580\n",
       "Name: adopted_user, dtype: int64"
      ]
     },
     "execution_count": 37,
     "metadata": {},
     "output_type": "execute_result"
    }
   ],
   "source": [
    "df2_model.adopted_user.value_counts()"
   ]
  },
  {
   "cell_type": "code",
   "execution_count": 38,
   "id": "f32991ea",
   "metadata": {},
   "outputs": [],
   "source": [
    "X=df2_model.drop(columns=['adopted_user', 'object_id'])\n",
    "y=df2_model.adopted_user"
   ]
  },
  {
   "cell_type": "markdown",
   "id": "5d9b365c",
   "metadata": {},
   "source": [
    "## 3. modeling and find the important features"
   ]
  },
  {
   "cell_type": "code",
   "execution_count": 39,
   "id": "f0a7d8f8",
   "metadata": {},
   "outputs": [],
   "source": [
    "#data preprocessing for modeling\n",
    "from sklearn.preprocessing import StandardScaler\n",
    "from sklearn.model_selection import train_test_split, cross_validate\n",
    "from sklearn.metrics import classification_report, roc_curve, roc_auc_score, confusion_matrix, accuracy_score, precision_score, recall_score\n",
    "from sklearn.model_selection import RandomizedSearchCV\n",
    "from sklearn.linear_model import LogisticRegression\n",
    "from sklearn.ensemble import RandomForestClassifier\n",
    "X_train, X_test, y_train, y_test=train_test_split(X, y, test_size=0.3, random_state=42, stratify=y)\n",
    "st_scaler=StandardScaler()\n",
    "X_train_s=st_scaler.fit_transform(X_train)\n",
    "X_test_s=st_scaler.transform(X_test)"
   ]
  },
  {
   "cell_type": "code",
   "execution_count": 40,
   "id": "834d5ec0",
   "metadata": {},
   "outputs": [
    {
     "name": "stdout",
     "output_type": "stream",
     "text": [
      "BEST PARAMS {'C': 50}\n"
     ]
    }
   ],
   "source": [
    "#we will try logistic regression to find the important factors\n",
    "logreg = LogisticRegression()\n",
    "param_grid = {'C': [0.1, 0.5, 1, 5, 10, 50, 100, 500, 1000, 5000, 10000]} # C is the inverse of regularization strength; must be a positive float. Smaller values of C mean stronger regularization.\n",
    "logreg_cv = RandomizedSearchCV(logreg, param_grid , cv=5, random_state=42)\n",
    "logreg_cv.fit(X_train_s,y_train)\n",
    "print(\"BEST PARAMS\", logreg_cv.best_params_)"
   ]
  },
  {
   "cell_type": "code",
   "execution_count": 41,
   "id": "e0862e0b",
   "metadata": {},
   "outputs": [
    {
     "data": {
      "text/plain": [
       "Index(['last_session_creation_time', 'creation_time_unix',\n",
       "       'creation_source_c'],\n",
       "      dtype='object')"
      ]
     },
     "execution_count": 41,
     "metadata": {},
     "output_type": "execute_result"
    }
   ],
   "source": [
    "import numpy as np\n",
    "features_name=X.columns\n",
    "from sklearn.feature_selection import SelectFromModel\n",
    "best_C_logreg=logreg_cv.best_estimator_\n",
    "sfm=SelectFromModel(best_C_logreg, threshold=-np.inf, max_features=3)\n",
    "sfm.fit(X_train_s, y_train)\n",
    "feature_idx=sfm.get_support()\n",
    "feature_name=features_name[feature_idx]\n",
    "feature_name"
   ]
  },
  {
   "cell_type": "markdown",
   "id": "14155ffa",
   "metadata": {},
   "source": [
    "The important features are 'last_session_creation_time' and 'creation_time_unix'."
   ]
  },
  {
   "cell_type": "code",
   "execution_count": 42,
   "id": "c9bf82b1",
   "metadata": {},
   "outputs": [
    {
     "data": {
      "text/plain": [
       "Text(0.5, 15.0, 'Predicted label')"
      ]
     },
     "execution_count": 42,
     "metadata": {},
     "output_type": "execute_result"
    },
    {
     "data": {
      "image/png": "[encoded data removed]",
      "text/plain": [
       "<Figure size 432x288 with 2 Axes>"
      ]
     },
     "metadata": {
      "needs_background": "light"
     },
     "output_type": "display_data"
    }
   ],
   "source": [
    "import seaborn as sns\n",
    "import matplotlib.pyplot as plt\n",
    "y_pred=best_C_logreg.predict(X_test_s)\n",
    "cnf_matrix = confusion_matrix(y_test, y_pred)\n",
    "sns.heatmap(pd.DataFrame(cnf_matrix), annot=True, cmap=\"YlGnBu\" ,fmt='g')\n",
    "plt.tight_layout()\n",
    "plt.title('Confusion matrix')\n",
    "plt.ylabel('Actual label')\n",
    "plt.xlabel('Predicted label')"
   ]
  },
  {
   "cell_type": "code",
   "execution_count": 43,
   "id": "df63c723",
   "metadata": {},
   "outputs": [
    {
     "name": "stdout",
     "output_type": "stream",
     "text": [
      "Accuracy: 0.962\n",
      "Precision: 0.915\n",
      "Recall: 0.867\n"
     ]
    }
   ],
   "source": [
    "print(\"Accuracy:\",accuracy_score(y_test, y_pred).round(3))\n",
    "print(\"Precision:\",precision_score(y_test, y_pred).round(3))\n",
    "print(\"Recall:\",recall_score(y_test, y_pred).round(3))"
   ]
  },
  {
   "cell_type": "code",
   "execution_count": 44,
   "id": "100de737",
   "metadata": {},
   "outputs": [
    {
     "name": "stdout",
     "output_type": "stream",
     "text": [
      "Fitting 5 folds for each of 10 candidates, totalling 50 fits\n",
      "BEST PARAMS {'n_estimators': 200, 'max_depth': 9}\n"
     ]
    }
   ],
   "source": [
    "#How about random forest, can it give us the same conclusion?\n",
    "n_estimators=[int(x) for x in np.linspace(start = 50, stop = 500, num = 10)]\n",
    "max_depths=[int(x) for x in np.linspace(1, 10, num = 10)]\n",
    "param_grid = {'n_estimators': n_estimators, 'max_depth':max_depths}\n",
    "rf = RandomForestClassifier()\n",
    "rf_random = RandomizedSearchCV(estimator = rf, param_distributions=param_grid, cv = 5, verbose=2, random_state=42, n_jobs = -1)\n",
    "rf_random.fit(X_train_s, y_train)\n",
    "end=time.time()\n",
    "print(\"BEST PARAMS\", rf_random.best_params_)"
   ]
  },
  {
   "cell_type": "code",
   "execution_count": 45,
   "id": "2d1aa2ab",
   "metadata": {},
   "outputs": [
    {
     "name": "stdout",
     "output_type": "stream",
     "text": [
      "{'opted_in_to_mailing_list': 0.0, 'enabled_for_marketing_drip': 0.0, 'invited_by_user_or_not': 0.0, 'creation_source_c': 0.01, 'org_id': 0.04, 'creation_time_unix': 0.19, 'last_session_creation_time': 0.75}\n"
     ]
    }
   ],
   "source": [
    "best_rf=rf_random.best_estimator_\n",
    "fea_importance=dict(zip(features_name, np.round(best_rf.feature_importances_, 2)))\n",
    "sort_fea_importance={}\n",
    "sorted_keys = sorted(fea_importance, key=fea_importance.get)\n",
    "for i in sorted_keys:\n",
    "    sort_fea_importance[i]=fea_importance[i]\n",
    "print(sort_fea_importance)"
   ]
  },
  {
   "cell_type": "code",
   "execution_count": 46,
   "id": "0483ebb8",
   "metadata": {},
   "outputs": [
    {
     "data": {
      "text/plain": [
       "Text(0.5, 15.0, 'Predicted label')"
      ]
     },
     "execution_count": 46,
     "metadata": {},
     "output_type": "execute_result"
    },
    {
     "data": {
      "image/png": "[encoded data removed]",
      "text/plain": [
       "<Figure size 432x288 with 2 Axes>"
      ]
     },
     "metadata": {
      "needs_background": "light"
     },
     "output_type": "display_data"
    }
   ],
   "source": [
    "y_pred=best_rf.predict(X_test_s)\n",
    "cnf_matrix = confusion_matrix(y_test, y_pred)\n",
    "sns.heatmap(pd.DataFrame(cnf_matrix), annot=True, cmap=\"YlGnBu\" ,fmt='g')\n",
    "plt.tight_layout()\n",
    "plt.title('Confusion matrix')\n",
    "plt.ylabel('Actual label')\n",
    "plt.xlabel('Predicted label')"
   ]
  },
  {
   "cell_type": "code",
   "execution_count": 47,
   "id": "0241920b",
   "metadata": {},
   "outputs": [
    {
     "name": "stdout",
     "output_type": "stream",
     "text": [
      "Accuracy: 0.946\n",
      "Precision: 0.944\n",
      "Recall: 0.741\n"
     ]
    }
   ],
   "source": [
    "print(\"Accuracy:\",accuracy_score(y_test, y_pred).round(3))\n",
    "print(\"Precision:\",precision_score(y_test, y_pred).round(3))\n",
    "print(\"Recall:\",recall_score(y_test, y_pred).round(3))"
   ]
  },
  {
   "cell_type": "markdown",
   "id": "86a19258",
   "metadata": {},
   "source": [
    "#### conclusion: 'creation_time_unix' and 'last_session_creation_time' are the most important features regardless which model we use."
   ]
  }
 ],
 "metadata": {
  "kernelspec": {
   "display_name": "Python 3",
   "language": "python",
   "name": "python3"
  },
  "language_info": {
   "codemirror_mode": {
    "name": "ipython",
    "version": 3
   },
   "file_extension": ".py",
   "mimetype": "text/x-python",
   "name": "python",
   "nbconvert_exporter": "python",
   "pygments_lexer": "ipython3",
   "version": "3.9.4"
  }
 },
 "nbformat": 4,
 "nbformat_minor": 5
}
