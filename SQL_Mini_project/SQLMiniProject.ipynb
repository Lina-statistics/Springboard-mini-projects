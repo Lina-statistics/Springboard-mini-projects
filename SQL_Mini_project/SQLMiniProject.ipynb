{
 "cells": [
  {
   "cell_type": "markdown",
   "metadata": {},
   "source": [
    "### Part I: run the code in Springboard database user interface.URL: https://sql.springboard.com/"
   ]
  },
  {
   "cell_type": "markdown",
   "metadata": {},
   "source": [
    "<span style='color:Blue'> Question 1: Some of the facilities charge a fee to members, but some do not.\n",
    "Write a SQL query to produce a list of the names of the facilities that do.</span>"
   ]
  },
  {
   "cell_type": "markdown",
   "metadata": {},
   "source": [
    "Q1= SELECT `name` FROM `Facilities` WHERE `membercost` != 0"
   ]
  },
  {
   "cell_type": "markdown",
   "metadata": {},
   "source": [
    "<span style='color:Blue'> Question 2: How many facilities do not charge a fee to members? </span>"
   ]
  },
  {
   "cell_type": "markdown",
   "metadata": {},
   "source": [
    "Q2=SELECT COUNT(`name`) FROM `Facilities` WHERE `membercost` = 0"
   ]
  },
  {
   "cell_type": "markdown",
   "metadata": {},
   "source": [
    "<span style='color:Blue'> Question 3: Write an SQL query to show a list of facilities that charge a fee to members,\n",
    "where the fee is less than 20% of the facility's monthly maintenance cost.\n",
    "Return the facid, facility name, member cost, and monthly maintenance of the\n",
    "facilities in question.</span>"
   ]
  },
  {
   "cell_type": "markdown",
   "metadata": {},
   "source": [
    "Q3=SELECT `facid`, `name`, `membercost`, `monthlymaintenance` FROM `Facilities` WHERE `membercost` < (0.2* `monthlymaintenance`)"
   ]
  },
  {
   "cell_type": "markdown",
   "metadata": {},
   "source": [
    "<span style='color:Blue'> Question 4: Write an SQL query to retrieve the details of facilities with ID 1 and 5.\n",
    "Try writing the query without using the OR operator. </span>"
   ]
  },
  {
   "cell_type": "markdown",
   "metadata": {},
   "source": [
    "Q4=SELECT * FROM `Facilities` WHERE `facid` IN (1,5)"
   ]
  },
  {
   "cell_type": "markdown",
   "metadata": {},
   "source": [
    "<span style='color:Blue'> Question 5: Produce a list of facilities, with each labelled as\n",
    "'cheap' or 'expensive', depending on if their monthly maintenance cost is\n",
    "more than $100. Return the name and monthly maintenance of the facilities\n",
    "in question. </span>"
   ]
  },
  {
   "cell_type": "markdown",
   "metadata": {},
   "source": [
    "Q5=SELECT `facid`, `name`, CASE WHEN `monthlymaintenance` > 100 THEN 'expensive' ELSE 'cheap' END AS `monthly_maintenance` FROM `Facilities`"
   ]
  },
  {
   "cell_type": "markdown",
   "metadata": {},
   "source": [
    "<span style='color:Blue'> Question 6: You'd like to get the first and last name of the last member(s)\n",
    "who signed up. Try not to use the LIMIT clause for your solution. </span>"
   ]
  },
  {
   "cell_type": "markdown",
   "metadata": {},
   "source": [
    "Q6 = SELECT `memid`, `surname`, `firstname` FROM `Members` WHERE `memid` != 0 AND `joindate`=(SELECT MAX(`joindate`) FROM `Members`)"
   ]
  },
  {
   "cell_type": "markdown",
   "metadata": {},
   "source": [
    "<span style='color:Blue'> Question 7: Produce a list of all members who have used a tennis court.\n",
    "Include in your output the name of the court, and the name of the member\n",
    "formatted as a single column. Ensure no duplicate data, and order by\n",
    "the member name.  </span>"
   ]
  },
  {
   "cell_type": "markdown",
   "metadata": {},
   "source": [
    "Q7= SELECT DISTINCT `facility_name`, concat(`surname`, ' ', `firstname`) AS `member_name` FROM (SELECT `memid`, `Facilities`.`name` AS `facility_name`, `Bookings`.`facid` FROM `Bookings` LEFT JOIN `Facilities` ON `Bookings`.`facid` = `Facilities`.`facid`) AS `BF` LEFT JOIN `Members` ON `BF`.`memid` = `Members`.`memid` WHERE `BF`.`facid` IN (SELECT `facid` FROM `Facilities` WHERE `name` LIKE 'tennis court%') AND `surname` != 'guest'  ORDER BY member_name"
   ]
  },
  {
   "cell_type": "markdown",
   "metadata": {},
   "source": [
    "<span style='color:Blue'> Question 8: Produce a list of bookings on the day of 2012-09-14 which\n",
    "will cost the member (or guest) more than $30. Remember that guests have\n",
    "different costs to members (the listed costs are per half-hour 'slot'), and\n",
    "the guest user's ID is always 0. Include in your output the name of the\n",
    "facility, the name of the member formatted as a single column, and the cost.\n",
    "Order by descending cost, and do not use any subqueries.  </span>"
   ]
  },
  {
   "cell_type": "markdown",
   "metadata": {},
   "source": [
    "Q8= SELECT  `Facilities`.`name`, CONCAT(`Members`.`surname`, ' ', `Members`.`firstname`), CASE WHEN `Bookings`.`memid` = 0 THEN `slots`*`guestcost`*2 ELSE `slots`*`membercost`*2 END AS `slot_cost` FROM `Bookings` LEFT JOIN `Facilities` ON `Bookings`.`facid` = `Facilities`.`facid` LEFT JOIN `Members` ON `Bookings`.`memid` = `Members`.`memid` WHERE ((`Bookings`.`starttime` LIKE '2012-09-14%') AND (`Bookings`.`memid`!= 0) AND (`slots`*`membercost`*2 >30)) OR ((`Bookings`.`starttime` LIKE '2012-09-14%') AND (`Bookings`.`memid`= 0) AND (`slots`*`guestcost`*2 >30)) ORDER BY `slot_cost` DESC"
   ]
  },
  {
   "cell_type": "markdown",
   "metadata": {},
   "source": [
    "<span style='color:Blue'> Question 9: This time, produce the same result as in Q8, but using a subquery. </span>"
   ]
  },
  {
   "cell_type": "markdown",
   "metadata": {},
   "source": [
    "Q9= SELECT  `BF`.`name`, CONCAT(`Members`.`surname`, ' ', `Members`.`firstname`), CASE WHEN `BF`.`memid` = 0 THEN `slots`*`guestcost`*2 ELSE `slots`*`membercost`*2 END AS `slot_cost` FROM\n",
    "(SELECT `Facilities`.`name`, `Facilities`.`membercost`, `Facilities`.`guestcost`, `Bookings`.`memid`, `Bookings`.`starttime`, `Bookings`.`slots` FROM `Bookings` LEFT JOIN `Facilities` ON `Facilities`.`facid` = `Bookings`.`facid`) AS `BF` LEFT JOIN `Members` ON `BF`.`memid` = `Members`.`memid` WHERE ((`BF`.`starttime` LIKE '2012-09-14%') AND (`BF`.`memid`!= 0) AND (`slots`*`membercost`*2 >30)) OR ((`BF`.`starttime` LIKE '2012-09-14%') AND (`BF`.`memid`= 0) AND (`slots`*`guestcost`*2 >30)) ORDER BY `slot_cost` DESC"
   ]
  },
  {
   "cell_type": "markdown",
   "metadata": {},
   "source": [
    "### Part II: Use local DB file to complete Q10-13"
   ]
  },
  {
   "cell_type": "markdown",
   "metadata": {},
   "source": [
    "Some functions work on the website, https://sql.springboard.com, but not in sqlite. For example, concat() is not supported in sqlite. The same thing happened for month(). If you test the code using the website, please refer to the markdown cells Q1-Q13. If you run in Jupyter notebook, please use the code in the normal cells.\n"
   ]
  },
  {
   "cell_type": "code",
   "execution_count": 7,
   "metadata": {},
   "outputs": [],
   "source": [
    "from sqlalchemy import create_engine\n",
    "import pandas as pd\n",
    "import sqlite3"
   ]
  },
  {
   "cell_type": "code",
   "execution_count": 8,
   "metadata": {},
   "outputs": [],
   "source": [
    "engine = create_engine('sqlite:///C:/Users/gln_d/Desktop/Springboard/mini_project/mini_project_Spring_Board/sqlite_db_pythonsqlite.db')"
   ]
  },
  {
   "cell_type": "markdown",
   "metadata": {},
   "source": [
    "Q10 = SELECT `name`, SUM(`slot_revenue`) AS `facility_revenue` FROM (SELECT `name`, CASE WHEN `memid` = 0 THEN `slots`*`guestcost`*2 ELSE `slots`*`membercost`*2 END AS `slot_revenue`  FROM (SELECT `bookid`, `memid`, `starttime`, `slots`, `name`, `membercost`, `guestcost` FROM `Bookings` LEFT JOIN `Facilities` ON `Bookings`.`facid`=`Facilities`.`facid`) AS `BF`) AS `FF` GROUP BY `name` ORDER BY `name`"
   ]
  },
  {
   "cell_type": "markdown",
   "metadata": {},
   "source": [
    "<span style='color:Blue'> Question 10: Produce a list of facilities with a total revenue less than 1000.\n",
    "The output of facility name and total revenue, sorted by revenue. Remember\n",
    "that there's a different cost for guests and members! </span>"
   ]
  },
  {
   "cell_type": "code",
   "execution_count": 3,
   "metadata": {},
   "outputs": [
    {
     "name": "stdout",
     "output_type": "stream",
     "text": [
      "              name  facility_revenue\n",
      "0  Badminton Court            3813.0\n",
      "1   Massage Room 1          100703.2\n",
      "2   Massage Room 2           28909.2\n",
      "3       Pool Table             540.0\n",
      "4    Snooker Table             480.0\n",
      "5     Squash Court           26936.0\n",
      "6     Table Tennis             360.0\n",
      "7   Tennis Court 1           27720.0\n",
      "8   Tennis Court 2           28620.0\n"
     ]
    }
   ],
   "source": [
    "Q10 = pd.read_sql_query(\"SELECT name, SUM(slot_revenue) AS facility_revenue FROM (SELECT name, CASE WHEN memid = 0 THEN slots*guestcost*2 ELSE slots*membercost*2 END AS slot_revenue FROM (SELECT bookid, memid, starttime, slots, name, membercost, guestcost FROM Bookings LEFT JOIN Facilities ON Bookings.facid=Facilities.facid) AS BF) AS FF GROUP BY name ORDER BY name\", engine)\n",
    "print(Q10)"
   ]
  },
  {
   "cell_type": "markdown",
   "metadata": {},
   "source": [
    "<span style='color:Blue'> Question 11: Produce a report of members and who recommended them in alphabetic surname,firstname order </span>"
   ]
  },
  {
   "cell_type": "markdown",
   "metadata": {},
   "source": [
    "Q11=SELECT CONCAT(`member_surname`, ' ', `member_firstname`) AS `Member_name`, CONCAT(`recommender_surname`, ' ', `recommender_firstname`) AS `recommender_name` FROM (SELECT `a`.`memid` AS `member_id`, `a`.`surname` AS `member_surname`, `a`.`firstname` AS `member_firstname`,`b`.`memid` AS `recommend_id`,`b`.`surname` AS `recommender_surname`, `b`.`firstname` AS `recommender_firstname` FROM `Members` `a`, `Members` `b` WHERE `a`.`memid`= `b`.`recommendedby`)AS `Members_sj` WHERE `member_id` != 0 ORDER BY `Member_name`"
   ]
  },
  {
   "cell_type": "code",
   "execution_count": 12,
   "metadata": {},
   "outputs": [
    {
     "name": "stdout",
     "output_type": "stream",
     "text": [
      "          Member_name         recommender_name\n",
      "0      Bader Florence         Sarwin Ramnaresh\n",
      "1       Baker Timothy              Coplin Joan\n",
      "2      Butters Gerald          Genting Matthew\n",
      "3      Farrell Jemima            Baker Timothy\n",
      "4      Farrell Jemima             Pinker David\n",
      "5     Genting Matthew         Rumney Henrietta\n",
      "6         Jones David            Jones Douglas\n",
      "7     Joplette Janice               Dare Nancy\n",
      "8     Joplette Janice              Jones David\n",
      "9   Purview Millicent                Hunt John\n",
      "10         Rownam Tim               Boothe Tim\n",
      "11       Smith Darren          Joplette Janice\n",
      "12       Smith Darren           Butters Gerald\n",
      "13       Smith Darren             Owen Charles\n",
      "14       Smith Darren               Smith Jack\n",
      "15       Smith Darren           Mackenzie Anna\n",
      "16        Smith Tracy  Worthington-Smyth Henry\n",
      "17        Smith Tracy        Purview Millicent\n",
      "18        Smith Tracy            Crumpet Erica\n",
      "19    Stibbons Ponder               Baker Anne\n",
      "20    Stibbons Ponder           Bader Florence\n",
      "21       Tracy Burton          Stibbons Ponder\n"
     ]
    }
   ],
   "source": [
    "Q11 = pd.read_sql_query(\"SELECT member_surname || ' ' || member_firstname AS Member_name, recommender_surname || ' ' || recommender_firstname AS recommender_name FROM (SELECT a.memid AS member_id, a.surname AS member_surname, a.firstname AS member_firstname,b.memid AS recommend_id,b.surname AS recommender_surname, b.firstname AS recommender_firstname FROM Members a, Members b WHERE a.memid= b.recommendedby) AS Members_sj WHERE member_id != 0 ORDER BY Member_name\", engine)\n",
    "print(Q11)"
   ]
  },
  {
   "cell_type": "markdown",
   "metadata": {},
   "source": [
    "Q12=SELECT `Bookings`.`facid`, `Facilities`.`name`, COUNT(`bookid`) FROM `Bookings` LEFT JOIN `Facilities` ON `Bookings`.`facid`=`Facilities`.`facid` WHERE `Bookings`.`memid` != 0 GROUP BY `name`"
   ]
  },
  {
   "cell_type": "markdown",
   "metadata": {},
   "source": [
    "<span style='color:Blue'> Question 12: Find the facilities with their usage by member, but not guests </span>"
   ]
  },
  {
   "cell_type": "code",
   "execution_count": 15,
   "metadata": {},
   "outputs": [
    {
     "name": "stdout",
     "output_type": "stream",
     "text": [
      "   facid             name  COUNT(bookid)\n",
      "0      2  Badminton Court            344\n",
      "1      4   Massage Room 1            421\n",
      "2      5   Massage Room 2             27\n",
      "3      8       Pool Table            783\n",
      "4      7    Snooker Table            421\n",
      "5      6     Squash Court            195\n",
      "6      3     Table Tennis            385\n",
      "7      0   Tennis Court 1            308\n",
      "8      1   Tennis Court 2            276\n"
     ]
    }
   ],
   "source": [
    "Q12 = pd.read_sql_query(\"SELECT Bookings.facid, Facilities.name, COUNT(bookid) FROM Bookings LEFT JOIN Facilities ON Bookings.facid=Facilities.facid WHERE Bookings.memid != 0 GROUP BY name\", engine)\n",
    "print(Q12)"
   ]
  },
  {
   "cell_type": "markdown",
   "metadata": {},
   "source": [
    "<span style='color:Blue'> Question 13: Find the facilities usage by month, but not guests </span>"
   ]
  },
  {
   "cell_type": "markdown",
   "metadata": {},
   "source": [
    "Q13 = SELECT `facid`, `month`, SUM(`slots`) FROM (SELECT `facid`, MONTH(`starttime`) AS `month`, `slots`, `memid` FROM `Bookings`) AS `Booking_by_month` WHERE `memid` != 0 GROUP By `month`, `facid`"
   ]
  },
  {
   "cell_type": "code",
   "execution_count": 17,
   "metadata": {},
   "outputs": [
    {
     "name": "stdout",
     "output_type": "stream",
     "text": [
      "    facid month  SUM(slots)\n",
      "0       0    07         201\n",
      "1       1    07         123\n",
      "2       2    07         165\n",
      "3       3    07          98\n",
      "4       4    07         166\n",
      "5       5    07           8\n",
      "6       6    07          50\n",
      "7       7    07         140\n",
      "8       8    07         110\n",
      "9       0    08         339\n",
      "10      1    08         345\n",
      "11      2    08         414\n",
      "12      3    08         296\n",
      "13      4    08         316\n",
      "14      5    08          18\n",
      "15      6    08         184\n",
      "16      7    08         316\n",
      "17      8    08         303\n",
      "18      0    09         417\n",
      "19      1    09         414\n",
      "20      2    09         507\n",
      "21      3    09         400\n",
      "22      4    09         402\n",
      "23      5    09          28\n",
      "24      6    09         184\n",
      "25      7    09         404\n",
      "26      8    09         443\n"
     ]
    }
   ],
   "source": [
    "Q13 = pd.read_sql_query(\" SELECT facid, month, SUM(slots) FROM (SELECT facid, strftime('%m', starttime) AS month, slots, memid FROM Bookings) AS Booking_by_month WHERE memid != 0 GROUP By month, facid\", engine)\n",
    "print(Q13)"
   ]
  }
 ],
 "metadata": {
  "kernelspec": {
   "display_name": "Python 3",
   "language": "python",
   "name": "python3"
  },
  "language_info": {
   "codemirror_mode": {
    "name": "ipython",
    "version": 3
   },
   "file_extension": ".py",
   "mimetype": "text/x-python",
   "name": "python",
   "nbconvert_exporter": "python",
   "pygments_lexer": "ipython3",
   "version": "3.8.6"
  }
 },
 "nbformat": 4,
 "nbformat_minor": 2
}
